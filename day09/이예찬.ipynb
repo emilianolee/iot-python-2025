{
 "cells": [
  {
   "cell_type": "markdown",
   "metadata": {},
   "source": [
    "# 1번"
   ]
  },
  {
   "cell_type": "code",
   "execution_count": 32,
   "metadata": {},
   "outputs": [
    {
     "name": "stdout",
     "output_type": "stream",
     "text": [
      "원의 넓이는 78.54입니다.\n"
     ]
    }
   ],
   "source": [
    "from math import *\n",
    "R = int(input('반지름의 값을 입력하세요 > '))\n",
    "print(f'원의 넓이는 {round(R * R * pi, 2)}입니다.')"
   ]
  },
  {
   "cell_type": "markdown",
   "metadata": {},
   "source": [
    "# 2번"
   ]
  },
  {
   "cell_type": "code",
   "execution_count": 23,
   "metadata": {},
   "outputs": [
    {
     "name": "stdout",
     "output_type": "stream",
     "text": [
      "웹사이트의 주소는 다음과 같습니다 : www.google.com\n"
     ]
    }
   ],
   "source": [
    "def get_url(url):\n",
    "    print(f'www.{url}.com')\n",
    "    return None\n",
    "\n",
    "url = input('웹사이트의 영문 이름을 입력하세요 > ')\n",
    "print('웹사이트의 주소는 다음과 같습니다 : ', end='')\n",
    "get_url(url)"
   ]
  },
  {
   "cell_type": "markdown",
   "metadata": {},
   "source": [
    "# 3번"
   ]
  },
  {
   "cell_type": "code",
   "execution_count": 28,
   "metadata": {},
   "outputs": [
    {
     "name": "stdout",
     "output_type": "stream",
     "text": [
      "4단 시작\n",
      "4 x 1 = 4\n",
      "4 x 2 = 8\n",
      "4 x 3 = 12\n",
      "4 x 4 = 16\n",
      "4 x 5 = 20\n",
      "4 x 6 = 24\n",
      "4 x 7 = 28\n",
      "4 x 8 = 32\n",
      "4 x 9 = 36\n"
     ]
    }
   ],
   "source": [
    "i = int(input('구구단을 수행할 단 번호를 입력하세요 > '))\n",
    "print(f'{i}단 시작')\n",
    "for x in range(1, 10):\n",
    "    print(f'{i} x {x} = {i * x}')"
   ]
  },
  {
   "cell_type": "markdown",
   "metadata": {},
   "source": [
    "# 4번"
   ]
  },
  {
   "cell_type": "code",
   "execution_count": 27,
   "metadata": {},
   "outputs": [
    {
     "name": "stdout",
     "output_type": "stream",
     "text": [
      "54321\n"
     ]
    }
   ],
   "source": [
    "num = int(input('거꾸로 출력해드립니다. 숫자들을 입력하세요 > '))\n",
    "rvs_num = int(str(num)[::-1])\n",
    "print(rvs_num)"
   ]
  },
  {
   "cell_type": "markdown",
   "metadata": {},
   "source": [
    "# 5번"
   ]
  },
  {
   "cell_type": "code",
   "execution_count": 11,
   "metadata": {},
   "outputs": [
    {
     "name": "stdout",
     "output_type": "stream",
     "text": [
      "내 휴대폰 정보\n",
      "Yechan\n",
      "010-1234-5678\n",
      "apple\n"
     ]
    }
   ],
   "source": [
    "class SmartPhone:\n",
    "    def __init__(self, phoneOwner, phoneNumber, company):\n",
    "        self.phoneOwner = phoneOwner\n",
    "        self.phoneNumber = phoneNumber\n",
    "        self.company = company\n",
    "\n",
    "    def __str__(self):\n",
    "        spStr = f'{self.phoneOwner}\\n{self.phoneNumber}\\n{self.company}'\n",
    "        return spStr\n",
    "    \n",
    "myPhone = SmartPhone('Yechan', '010-1234-5678', 'apple')\n",
    "print('내 휴대폰 정보')\n",
    "print(myPhone)"
   ]
  }
 ],
 "metadata": {
  "kernelspec": {
   "display_name": "3.11.9",
   "language": "python",
   "name": "python3"
  },
  "language_info": {
   "codemirror_mode": {
    "name": "ipython",
    "version": 3
   },
   "file_extension": ".py",
   "mimetype": "text/x-python",
   "name": "python",
   "nbconvert_exporter": "python",
   "pygments_lexer": "ipython3",
   "version": "3.11.9"
  }
 },
 "nbformat": 4,
 "nbformat_minor": 2
}
